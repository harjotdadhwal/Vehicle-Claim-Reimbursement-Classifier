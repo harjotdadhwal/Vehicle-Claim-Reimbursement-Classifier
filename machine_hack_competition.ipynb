{
 "cells": [
  {
   "cell_type": "markdown",
   "metadata": {},
   "source": [
    "# Vehicle Claim Reimbursement - Classifier \n",
    "The Vehicle Insurance business is a multi-billion dollar industry. Every year millions and millions of premiums are paid, and a huge amount of claims also pile up. \n",
    "\n",
    "You have to step into the shoes of a data scientist who is building models to help an insurance company understand which claims are worth rejecting and the claims which should be accepted for reimbursement. "
   ]
  },
  {
   "cell_type": "code",
   "execution_count": 124,
   "metadata": {},
   "outputs": [],
   "source": [
    "#importing libraries\n",
    "import os\n",
    "import pandas as pd\n",
    "import seaborn as sns\n",
    "import matplotlib.pyplot as plt\n",
    "import numpy as np\n",
    "from sklearn.preprocessing import OneHotEncoder\n",
    "from sklearn.cluster import KMeans\n",
    "from sklearn.feature_extraction import DictVectorizer\n",
    "from sklearn.preprocessing import StandardScaler\n",
    "from sklearn.model_selection import train_test_split\n",
    "import statsmodels.api as sm\n",
    "import matplotlib.image as mpimg\n",
    "from matplotlib.pyplot import figure\n",
    "from sklearn.preprocessing import MinMaxScaler\n",
    "from sklearn.linear_model import LinearRegression\n",
    "from sklearn.tree import DecisionTreeRegressor\n",
    "from sklearn.ensemble import RandomForestRegressor, GradientBoostingRegressor\n",
    "from sklearn.model_selection import train_test_split, GridSearchCV\n",
    "from sklearn.metrics import r2_score, mean_squared_error\n",
    "import wandb\n",
    "import os"
   ]
  },
  {
   "cell_type": "code",
   "execution_count": 188,
   "metadata": {},
   "outputs": [],
   "source": [
    "#reading dataset\n",
    "insurance = pd.read_csv('train_mh.csv')"
   ]
  },
  {
   "cell_type": "code",
   "execution_count": 189,
   "metadata": {},
   "outputs": [
    {
     "data": {
      "text/html": [
       "<div>\n",
       "<style scoped>\n",
       "    .dataframe tbody tr th:only-of-type {\n",
       "        vertical-align: middle;\n",
       "    }\n",
       "\n",
       "    .dataframe tbody tr th {\n",
       "        vertical-align: top;\n",
       "    }\n",
       "\n",
       "    .dataframe thead th {\n",
       "        text-align: right;\n",
       "    }\n",
       "</style>\n",
       "<table border=\"1\" class=\"dataframe\">\n",
       "  <thead>\n",
       "    <tr style=\"text-align: right;\">\n",
       "      <th></th>\n",
       "      <th>ID</th>\n",
       "      <th>AGE</th>\n",
       "      <th>GENDER</th>\n",
       "      <th>DRIVING_EXPERIENCE</th>\n",
       "      <th>EDUCATION</th>\n",
       "      <th>INCOME</th>\n",
       "      <th>CREDIT_SCORE</th>\n",
       "      <th>VEHICLE_OWNERSHIP</th>\n",
       "      <th>VEHICLE_YEAR</th>\n",
       "      <th>MARRIED</th>\n",
       "      <th>CHILDREN</th>\n",
       "      <th>POSTAL_CODE</th>\n",
       "      <th>ANNUAL_MILEAGE</th>\n",
       "      <th>SPEEDING_VIOLATIONS</th>\n",
       "      <th>DUIS</th>\n",
       "      <th>PAST_ACCIDENTS</th>\n",
       "      <th>OUTCOME</th>\n",
       "      <th>TYPE_OF_VEHICLE</th>\n",
       "    </tr>\n",
       "  </thead>\n",
       "  <tbody>\n",
       "    <tr>\n",
       "      <th>0</th>\n",
       "      <td>816393</td>\n",
       "      <td>40-64</td>\n",
       "      <td>female</td>\n",
       "      <td>20-29y</td>\n",
       "      <td>university</td>\n",
       "      <td>middle class</td>\n",
       "      <td>0.638050</td>\n",
       "      <td>0.0</td>\n",
       "      <td>after 2015</td>\n",
       "      <td>0.0</td>\n",
       "      <td>0.0</td>\n",
       "      <td>37379</td>\n",
       "      <td>11000.0</td>\n",
       "      <td>0</td>\n",
       "      <td>0</td>\n",
       "      <td>0</td>\n",
       "      <td>0.0</td>\n",
       "      <td>Sports Car</td>\n",
       "    </tr>\n",
       "    <tr>\n",
       "      <th>1</th>\n",
       "      <td>251762</td>\n",
       "      <td>26-39</td>\n",
       "      <td>male</td>\n",
       "      <td>20-29y</td>\n",
       "      <td>high school</td>\n",
       "      <td>middle class</td>\n",
       "      <td>0.475741</td>\n",
       "      <td>1.0</td>\n",
       "      <td>before 2015</td>\n",
       "      <td>1.0</td>\n",
       "      <td>0.0</td>\n",
       "      <td>10238</td>\n",
       "      <td>9000.0</td>\n",
       "      <td>0</td>\n",
       "      <td>0</td>\n",
       "      <td>0</td>\n",
       "      <td>1.0</td>\n",
       "      <td>HatchBack</td>\n",
       "    </tr>\n",
       "    <tr>\n",
       "      <th>2</th>\n",
       "      <td>481952</td>\n",
       "      <td>40-64</td>\n",
       "      <td>male</td>\n",
       "      <td>20-29y</td>\n",
       "      <td>none</td>\n",
       "      <td>middle class</td>\n",
       "      <td>0.839817</td>\n",
       "      <td>1.0</td>\n",
       "      <td>before 2015</td>\n",
       "      <td>1.0</td>\n",
       "      <td>1.0</td>\n",
       "      <td>10238</td>\n",
       "      <td>12000.0</td>\n",
       "      <td>0</td>\n",
       "      <td>0</td>\n",
       "      <td>0</td>\n",
       "      <td>1.0</td>\n",
       "      <td>Sedan</td>\n",
       "    </tr>\n",
       "    <tr>\n",
       "      <th>3</th>\n",
       "      <td>3506</td>\n",
       "      <td>40-64</td>\n",
       "      <td>male</td>\n",
       "      <td>20-29y</td>\n",
       "      <td>high school</td>\n",
       "      <td>upper class</td>\n",
       "      <td>0.682527</td>\n",
       "      <td>1.0</td>\n",
       "      <td>before 2015</td>\n",
       "      <td>0.0</td>\n",
       "      <td>1.0</td>\n",
       "      <td>92099</td>\n",
       "      <td>6000.0</td>\n",
       "      <td>1</td>\n",
       "      <td>0</td>\n",
       "      <td>0</td>\n",
       "      <td>1.0</td>\n",
       "      <td>Sedan</td>\n",
       "    </tr>\n",
       "    <tr>\n",
       "      <th>4</th>\n",
       "      <td>498013</td>\n",
       "      <td>40-64</td>\n",
       "      <td>female</td>\n",
       "      <td>20-29y</td>\n",
       "      <td>none</td>\n",
       "      <td>working class</td>\n",
       "      <td>0.572184</td>\n",
       "      <td>1.0</td>\n",
       "      <td>after 2015</td>\n",
       "      <td>1.0</td>\n",
       "      <td>1.0</td>\n",
       "      <td>32122</td>\n",
       "      <td>15000.0</td>\n",
       "      <td>0</td>\n",
       "      <td>0</td>\n",
       "      <td>1</td>\n",
       "      <td>0.0</td>\n",
       "      <td>Sedan</td>\n",
       "    </tr>\n",
       "  </tbody>\n",
       "</table>\n",
       "</div>"
      ],
      "text/plain": [
       "       ID    AGE  GENDER DRIVING_EXPERIENCE    EDUCATION         INCOME  \\\n",
       "0  816393  40-64  female             20-29y   university   middle class   \n",
       "1  251762  26-39    male             20-29y  high school   middle class   \n",
       "2  481952  40-64    male             20-29y         none   middle class   \n",
       "3    3506  40-64    male             20-29y  high school    upper class   \n",
       "4  498013  40-64  female             20-29y         none  working class   \n",
       "\n",
       "   CREDIT_SCORE  VEHICLE_OWNERSHIP VEHICLE_YEAR  MARRIED  CHILDREN  \\\n",
       "0      0.638050                0.0   after 2015      0.0       0.0   \n",
       "1      0.475741                1.0  before 2015      1.0       0.0   \n",
       "2      0.839817                1.0  before 2015      1.0       1.0   \n",
       "3      0.682527                1.0  before 2015      0.0       1.0   \n",
       "4      0.572184                1.0   after 2015      1.0       1.0   \n",
       "\n",
       "   POSTAL_CODE  ANNUAL_MILEAGE  SPEEDING_VIOLATIONS  DUIS  PAST_ACCIDENTS  \\\n",
       "0        37379         11000.0                    0     0               0   \n",
       "1        10238          9000.0                    0     0               0   \n",
       "2        10238         12000.0                    0     0               0   \n",
       "3        92099          6000.0                    1     0               0   \n",
       "4        32122         15000.0                    0     0               1   \n",
       "\n",
       "   OUTCOME TYPE_OF_VEHICLE  \n",
       "0      0.0      Sports Car  \n",
       "1      1.0       HatchBack  \n",
       "2      1.0           Sedan  \n",
       "3      1.0           Sedan  \n",
       "4      0.0           Sedan  "
      ]
     },
     "execution_count": 189,
     "metadata": {},
     "output_type": "execute_result"
    }
   ],
   "source": [
    "insurance.head()"
   ]
  },
  {
   "cell_type": "code",
   "execution_count": 190,
   "metadata": {},
   "outputs": [
    {
     "data": {
      "text/html": [
       "<div>\n",
       "<style scoped>\n",
       "    .dataframe tbody tr th:only-of-type {\n",
       "        vertical-align: middle;\n",
       "    }\n",
       "\n",
       "    .dataframe tbody tr th {\n",
       "        vertical-align: top;\n",
       "    }\n",
       "\n",
       "    .dataframe thead th {\n",
       "        text-align: right;\n",
       "    }\n",
       "</style>\n",
       "<table border=\"1\" class=\"dataframe\">\n",
       "  <thead>\n",
       "    <tr style=\"text-align: right;\">\n",
       "      <th></th>\n",
       "      <th>ID</th>\n",
       "      <th>CREDIT_SCORE</th>\n",
       "    </tr>\n",
       "  </thead>\n",
       "  <tbody>\n",
       "  </tbody>\n",
       "</table>\n",
       "</div>"
      ],
      "text/plain": [
       "Empty DataFrame\n",
       "Columns: [ID, CREDIT_SCORE]\n",
       "Index: []"
      ]
     },
     "execution_count": 190,
     "metadata": {},
     "output_type": "execute_result"
    }
   ],
   "source": [
    "df_duplicate = insurance[['ID', 'CREDIT_SCORE']]\n",
    "dup1 = df_duplicate[df_duplicate.duplicated(subset=['ID','CREDIT_SCORE'], keep=False)]\n",
    "dup1"
   ]
  },
  {
   "cell_type": "code",
   "execution_count": 191,
   "metadata": {
    "scrolled": false
   },
   "outputs": [
    {
     "data": {
      "text/html": [
       "<div>\n",
       "<style scoped>\n",
       "    .dataframe tbody tr th:only-of-type {\n",
       "        vertical-align: middle;\n",
       "    }\n",
       "\n",
       "    .dataframe tbody tr th {\n",
       "        vertical-align: top;\n",
       "    }\n",
       "\n",
       "    .dataframe thead th {\n",
       "        text-align: right;\n",
       "    }\n",
       "</style>\n",
       "<table border=\"1\" class=\"dataframe\">\n",
       "  <thead>\n",
       "    <tr style=\"text-align: right;\">\n",
       "      <th>OUTCOME</th>\n",
       "      <th>0.0</th>\n",
       "      <th>1.0</th>\n",
       "    </tr>\n",
       "    <tr>\n",
       "      <th>AGE</th>\n",
       "      <th></th>\n",
       "      <th></th>\n",
       "    </tr>\n",
       "  </thead>\n",
       "  <tbody>\n",
       "    <tr>\n",
       "      <th>16-25</th>\n",
       "      <td>58.167614</td>\n",
       "      <td>41.832386</td>\n",
       "    </tr>\n",
       "    <tr>\n",
       "      <th>26-39</th>\n",
       "      <td>57.703067</td>\n",
       "      <td>42.296933</td>\n",
       "    </tr>\n",
       "    <tr>\n",
       "      <th>40-64</th>\n",
       "      <td>57.480128</td>\n",
       "      <td>42.519872</td>\n",
       "    </tr>\n",
       "    <tr>\n",
       "      <th>65+</th>\n",
       "      <td>57.775620</td>\n",
       "      <td>42.224380</td>\n",
       "    </tr>\n",
       "  </tbody>\n",
       "</table>\n",
       "</div>"
      ],
      "text/plain": [
       "OUTCOME        0.0        1.0\n",
       "AGE                          \n",
       "16-25    58.167614  41.832386\n",
       "26-39    57.703067  42.296933\n",
       "40-64    57.480128  42.519872\n",
       "65+      57.775620  42.224380"
      ]
     },
     "execution_count": 191,
     "metadata": {},
     "output_type": "execute_result"
    }
   ],
   "source": [
    "pd.crosstab(insurance.AGE,insurance.OUTCOME, normalize='index')*100"
   ]
  },
  {
   "cell_type": "code",
   "execution_count": 192,
   "metadata": {},
   "outputs": [
    {
     "data": {
      "text/html": [
       "<div>\n",
       "<style scoped>\n",
       "    .dataframe tbody tr th:only-of-type {\n",
       "        vertical-align: middle;\n",
       "    }\n",
       "\n",
       "    .dataframe tbody tr th {\n",
       "        vertical-align: top;\n",
       "    }\n",
       "\n",
       "    .dataframe thead th {\n",
       "        text-align: right;\n",
       "    }\n",
       "</style>\n",
       "<table border=\"1\" class=\"dataframe\">\n",
       "  <thead>\n",
       "    <tr style=\"text-align: right;\">\n",
       "      <th>OUTCOME</th>\n",
       "      <th>0.0</th>\n",
       "      <th>1.0</th>\n",
       "    </tr>\n",
       "    <tr>\n",
       "      <th>AGE</th>\n",
       "      <th></th>\n",
       "      <th></th>\n",
       "    </tr>\n",
       "  </thead>\n",
       "  <tbody>\n",
       "    <tr>\n",
       "      <th>16-25</th>\n",
       "      <td>58.167614</td>\n",
       "      <td>41.832386</td>\n",
       "    </tr>\n",
       "    <tr>\n",
       "      <th>26-39</th>\n",
       "      <td>57.703067</td>\n",
       "      <td>42.296933</td>\n",
       "    </tr>\n",
       "    <tr>\n",
       "      <th>40-64</th>\n",
       "      <td>57.480128</td>\n",
       "      <td>42.519872</td>\n",
       "    </tr>\n",
       "    <tr>\n",
       "      <th>65+</th>\n",
       "      <td>57.775620</td>\n",
       "      <td>42.224380</td>\n",
       "    </tr>\n",
       "  </tbody>\n",
       "</table>\n",
       "</div>"
      ],
      "text/plain": [
       "OUTCOME        0.0        1.0\n",
       "AGE                          \n",
       "16-25    58.167614  41.832386\n",
       "26-39    57.703067  42.296933\n",
       "40-64    57.480128  42.519872\n",
       "65+      57.775620  42.224380"
      ]
     },
     "execution_count": 192,
     "metadata": {},
     "output_type": "execute_result"
    }
   ],
   "source": [
    "pd.crosstab(insurance.AGE,insurance.OUTCOME, normalize='index')*100"
   ]
  },
  {
   "cell_type": "code",
   "execution_count": 193,
   "metadata": {},
   "outputs": [
    {
     "data": {
      "text/html": [
       "<div>\n",
       "<style scoped>\n",
       "    .dataframe tbody tr th:only-of-type {\n",
       "        vertical-align: middle;\n",
       "    }\n",
       "\n",
       "    .dataframe tbody tr th {\n",
       "        vertical-align: top;\n",
       "    }\n",
       "\n",
       "    .dataframe thead th {\n",
       "        text-align: right;\n",
       "    }\n",
       "</style>\n",
       "<table border=\"1\" class=\"dataframe\">\n",
       "  <thead>\n",
       "    <tr style=\"text-align: right;\">\n",
       "      <th>OUTCOME</th>\n",
       "      <th>0.0</th>\n",
       "      <th>1.0</th>\n",
       "    </tr>\n",
       "    <tr>\n",
       "      <th>DRIVING_EXPERIENCE</th>\n",
       "      <th></th>\n",
       "      <th></th>\n",
       "    </tr>\n",
       "  </thead>\n",
       "  <tbody>\n",
       "    <tr>\n",
       "      <th>0-9y</th>\n",
       "      <td>58.080396</td>\n",
       "      <td>41.919604</td>\n",
       "    </tr>\n",
       "    <tr>\n",
       "      <th>10-19y</th>\n",
       "      <td>58.686905</td>\n",
       "      <td>41.313095</td>\n",
       "    </tr>\n",
       "    <tr>\n",
       "      <th>20-29y</th>\n",
       "      <td>56.874617</td>\n",
       "      <td>43.125383</td>\n",
       "    </tr>\n",
       "    <tr>\n",
       "      <th>30y+</th>\n",
       "      <td>57.407208</td>\n",
       "      <td>42.592792</td>\n",
       "    </tr>\n",
       "  </tbody>\n",
       "</table>\n",
       "</div>"
      ],
      "text/plain": [
       "OUTCOME                   0.0        1.0\n",
       "DRIVING_EXPERIENCE                      \n",
       "0-9y                58.080396  41.919604\n",
       "10-19y              58.686905  41.313095\n",
       "20-29y              56.874617  43.125383\n",
       "30y+                57.407208  42.592792"
      ]
     },
     "execution_count": 193,
     "metadata": {},
     "output_type": "execute_result"
    }
   ],
   "source": [
    "pd.crosstab(insurance.DRIVING_EXPERIENCE,insurance.OUTCOME, normalize='index')*100"
   ]
  },
  {
   "cell_type": "code",
   "execution_count": 194,
   "metadata": {},
   "outputs": [
    {
     "data": {
      "text/html": [
       "<div>\n",
       "<style scoped>\n",
       "    .dataframe tbody tr th:only-of-type {\n",
       "        vertical-align: middle;\n",
       "    }\n",
       "\n",
       "    .dataframe tbody tr th {\n",
       "        vertical-align: top;\n",
       "    }\n",
       "\n",
       "    .dataframe thead th {\n",
       "        text-align: right;\n",
       "    }\n",
       "</style>\n",
       "<table border=\"1\" class=\"dataframe\">\n",
       "  <thead>\n",
       "    <tr style=\"text-align: right;\">\n",
       "      <th>OUTCOME</th>\n",
       "      <th>0.0</th>\n",
       "      <th>1.0</th>\n",
       "    </tr>\n",
       "    <tr>\n",
       "      <th>EDUCATION</th>\n",
       "      <th></th>\n",
       "      <th></th>\n",
       "    </tr>\n",
       "  </thead>\n",
       "  <tbody>\n",
       "    <tr>\n",
       "      <th>high school</th>\n",
       "      <td>57.649710</td>\n",
       "      <td>42.350290</td>\n",
       "    </tr>\n",
       "    <tr>\n",
       "      <th>none</th>\n",
       "      <td>57.587348</td>\n",
       "      <td>42.412652</td>\n",
       "    </tr>\n",
       "    <tr>\n",
       "      <th>university</th>\n",
       "      <td>57.991672</td>\n",
       "      <td>42.008328</td>\n",
       "    </tr>\n",
       "  </tbody>\n",
       "</table>\n",
       "</div>"
      ],
      "text/plain": [
       "OUTCOME            0.0        1.0\n",
       "EDUCATION                        \n",
       "high school  57.649710  42.350290\n",
       "none         57.587348  42.412652\n",
       "university   57.991672  42.008328"
      ]
     },
     "execution_count": 194,
     "metadata": {},
     "output_type": "execute_result"
    }
   ],
   "source": [
    "pd.crosstab(insurance.EDUCATION,insurance.OUTCOME, normalize='index')*100"
   ]
  },
  {
   "cell_type": "code",
   "execution_count": 195,
   "metadata": {},
   "outputs": [
    {
     "data": {
      "text/html": [
       "<div>\n",
       "<style scoped>\n",
       "    .dataframe tbody tr th:only-of-type {\n",
       "        vertical-align: middle;\n",
       "    }\n",
       "\n",
       "    .dataframe tbody tr th {\n",
       "        vertical-align: top;\n",
       "    }\n",
       "\n",
       "    .dataframe thead th {\n",
       "        text-align: right;\n",
       "    }\n",
       "</style>\n",
       "<table border=\"1\" class=\"dataframe\">\n",
       "  <thead>\n",
       "    <tr style=\"text-align: right;\">\n",
       "      <th>OUTCOME</th>\n",
       "      <th>0.0</th>\n",
       "      <th>1.0</th>\n",
       "    </tr>\n",
       "    <tr>\n",
       "      <th>INCOME</th>\n",
       "      <th></th>\n",
       "      <th></th>\n",
       "    </tr>\n",
       "  </thead>\n",
       "  <tbody>\n",
       "    <tr>\n",
       "      <th>middle class</th>\n",
       "      <td>57.945447</td>\n",
       "      <td>42.054553</td>\n",
       "    </tr>\n",
       "    <tr>\n",
       "      <th>poverty</th>\n",
       "      <td>57.350210</td>\n",
       "      <td>42.649790</td>\n",
       "    </tr>\n",
       "    <tr>\n",
       "      <th>upper class</th>\n",
       "      <td>57.668077</td>\n",
       "      <td>42.331923</td>\n",
       "    </tr>\n",
       "    <tr>\n",
       "      <th>working class</th>\n",
       "      <td>57.978245</td>\n",
       "      <td>42.021755</td>\n",
       "    </tr>\n",
       "  </tbody>\n",
       "</table>\n",
       "</div>"
      ],
      "text/plain": [
       "OUTCOME              0.0        1.0\n",
       "INCOME                             \n",
       "middle class   57.945447  42.054553\n",
       "poverty        57.350210  42.649790\n",
       "upper class    57.668077  42.331923\n",
       "working class  57.978245  42.021755"
      ]
     },
     "execution_count": 195,
     "metadata": {},
     "output_type": "execute_result"
    }
   ],
   "source": [
    "pd.crosstab(insurance.INCOME\n",
    "            ,insurance.OUTCOME, normalize='index')*100"
   ]
  },
  {
   "cell_type": "code",
   "execution_count": 196,
   "metadata": {},
   "outputs": [
    {
     "data": {
      "text/plain": [
       "OUTCOME\n",
       "0.0    0.602535\n",
       "1.0    0.601678\n",
       "Name: CREDIT_SCORE, dtype: float64"
      ]
     },
     "execution_count": 196,
     "metadata": {},
     "output_type": "execute_result"
    }
   ],
   "source": [
    "insurance.groupby('OUTCOME')['CREDIT_SCORE'].mean()"
   ]
  },
  {
   "cell_type": "code",
   "execution_count": 197,
   "metadata": {},
   "outputs": [
    {
     "data": {
      "text/html": [
       "<div>\n",
       "<style scoped>\n",
       "    .dataframe tbody tr th:only-of-type {\n",
       "        vertical-align: middle;\n",
       "    }\n",
       "\n",
       "    .dataframe tbody tr th {\n",
       "        vertical-align: top;\n",
       "    }\n",
       "\n",
       "    .dataframe thead th {\n",
       "        text-align: right;\n",
       "    }\n",
       "</style>\n",
       "<table border=\"1\" class=\"dataframe\">\n",
       "  <thead>\n",
       "    <tr style=\"text-align: right;\">\n",
       "      <th>OUTCOME</th>\n",
       "      <th>0.0</th>\n",
       "      <th>1.0</th>\n",
       "    </tr>\n",
       "    <tr>\n",
       "      <th>VEHICLE_OWNERSHIP</th>\n",
       "      <th></th>\n",
       "      <th></th>\n",
       "    </tr>\n",
       "  </thead>\n",
       "  <tbody>\n",
       "    <tr>\n",
       "      <th>0.0</th>\n",
       "      <td>57.403227</td>\n",
       "      <td>42.596773</td>\n",
       "    </tr>\n",
       "    <tr>\n",
       "      <th>1.0</th>\n",
       "      <td>57.804673</td>\n",
       "      <td>42.195327</td>\n",
       "    </tr>\n",
       "  </tbody>\n",
       "</table>\n",
       "</div>"
      ],
      "text/plain": [
       "OUTCOME                  0.0        1.0\n",
       "VEHICLE_OWNERSHIP                      \n",
       "0.0                57.403227  42.596773\n",
       "1.0                57.804673  42.195327"
      ]
     },
     "execution_count": 197,
     "metadata": {},
     "output_type": "execute_result"
    }
   ],
   "source": [
    "pd.crosstab(insurance.VEHICLE_OWNERSHIP,insurance.OUTCOME, normalize='index')*100"
   ]
  },
  {
   "cell_type": "code",
   "execution_count": 198,
   "metadata": {},
   "outputs": [
    {
     "data": {
      "text/html": [
       "<div>\n",
       "<style scoped>\n",
       "    .dataframe tbody tr th:only-of-type {\n",
       "        vertical-align: middle;\n",
       "    }\n",
       "\n",
       "    .dataframe tbody tr th {\n",
       "        vertical-align: top;\n",
       "    }\n",
       "\n",
       "    .dataframe thead th {\n",
       "        text-align: right;\n",
       "    }\n",
       "</style>\n",
       "<table border=\"1\" class=\"dataframe\">\n",
       "  <thead>\n",
       "    <tr style=\"text-align: right;\">\n",
       "      <th>OUTCOME</th>\n",
       "      <th>0.0</th>\n",
       "      <th>1.0</th>\n",
       "    </tr>\n",
       "    <tr>\n",
       "      <th>VEHICLE_YEAR</th>\n",
       "      <th></th>\n",
       "      <th></th>\n",
       "    </tr>\n",
       "  </thead>\n",
       "  <tbody>\n",
       "    <tr>\n",
       "      <th>after 2015</th>\n",
       "      <td>57.781802</td>\n",
       "      <td>42.218198</td>\n",
       "    </tr>\n",
       "    <tr>\n",
       "      <th>before 2015</th>\n",
       "      <td>57.696788</td>\n",
       "      <td>42.303212</td>\n",
       "    </tr>\n",
       "  </tbody>\n",
       "</table>\n",
       "</div>"
      ],
      "text/plain": [
       "OUTCOME             0.0        1.0\n",
       "VEHICLE_YEAR                      \n",
       "after 2015    57.781802  42.218198\n",
       "before 2015   57.696788  42.303212"
      ]
     },
     "execution_count": 198,
     "metadata": {},
     "output_type": "execute_result"
    }
   ],
   "source": [
    "pd.crosstab(insurance.VEHICLE_YEAR,insurance.OUTCOME, normalize='index')*100"
   ]
  },
  {
   "cell_type": "code",
   "execution_count": 199,
   "metadata": {},
   "outputs": [
    {
     "data": {
      "text/html": [
       "<div>\n",
       "<style scoped>\n",
       "    .dataframe tbody tr th:only-of-type {\n",
       "        vertical-align: middle;\n",
       "    }\n",
       "\n",
       "    .dataframe tbody tr th {\n",
       "        vertical-align: top;\n",
       "    }\n",
       "\n",
       "    .dataframe thead th {\n",
       "        text-align: right;\n",
       "    }\n",
       "</style>\n",
       "<table border=\"1\" class=\"dataframe\">\n",
       "  <thead>\n",
       "    <tr style=\"text-align: right;\">\n",
       "      <th>OUTCOME</th>\n",
       "      <th>0.0</th>\n",
       "      <th>1.0</th>\n",
       "    </tr>\n",
       "    <tr>\n",
       "      <th>MARRIED</th>\n",
       "      <th></th>\n",
       "      <th></th>\n",
       "    </tr>\n",
       "  </thead>\n",
       "  <tbody>\n",
       "    <tr>\n",
       "      <th>0.0</th>\n",
       "      <td>57.382343</td>\n",
       "      <td>42.617657</td>\n",
       "    </tr>\n",
       "    <tr>\n",
       "      <th>1.0</th>\n",
       "      <td>57.986468</td>\n",
       "      <td>42.013532</td>\n",
       "    </tr>\n",
       "  </tbody>\n",
       "</table>\n",
       "</div>"
      ],
      "text/plain": [
       "OUTCOME        0.0        1.0\n",
       "MARRIED                      \n",
       "0.0      57.382343  42.617657\n",
       "1.0      57.986468  42.013532"
      ]
     },
     "execution_count": 199,
     "metadata": {},
     "output_type": "execute_result"
    }
   ],
   "source": [
    "pd.crosstab(insurance.MARRIED,insurance.OUTCOME, normalize='index')*100"
   ]
  },
  {
   "cell_type": "code",
   "execution_count": 202,
   "metadata": {},
   "outputs": [
    {
     "data": {
      "text/html": [
       "<div>\n",
       "<style scoped>\n",
       "    .dataframe tbody tr th:only-of-type {\n",
       "        vertical-align: middle;\n",
       "    }\n",
       "\n",
       "    .dataframe tbody tr th {\n",
       "        vertical-align: top;\n",
       "    }\n",
       "\n",
       "    .dataframe thead th {\n",
       "        text-align: right;\n",
       "    }\n",
       "</style>\n",
       "<table border=\"1\" class=\"dataframe\">\n",
       "  <thead>\n",
       "    <tr style=\"text-align: right;\">\n",
       "      <th>OUTCOME</th>\n",
       "      <th>0.0</th>\n",
       "      <th>1.0</th>\n",
       "    </tr>\n",
       "    <tr>\n",
       "      <th>CHILDREN</th>\n",
       "      <th></th>\n",
       "      <th></th>\n",
       "    </tr>\n",
       "  </thead>\n",
       "  <tbody>\n",
       "    <tr>\n",
       "      <th>0.0</th>\n",
       "      <td>57.831349</td>\n",
       "      <td>42.168651</td>\n",
       "    </tr>\n",
       "    <tr>\n",
       "      <th>1.0</th>\n",
       "      <td>57.646520</td>\n",
       "      <td>42.353480</td>\n",
       "    </tr>\n",
       "  </tbody>\n",
       "</table>\n",
       "</div>"
      ],
      "text/plain": [
       "OUTCOME         0.0        1.0\n",
       "CHILDREN                      \n",
       "0.0       57.831349  42.168651\n",
       "1.0       57.646520  42.353480"
      ]
     },
     "execution_count": 202,
     "metadata": {},
     "output_type": "execute_result"
    }
   ],
   "source": [
    "pd.crosstab(insurance.CHILDREN,insurance.OUTCOME , normalize='index')*100"
   ]
  },
  {
   "cell_type": "code",
   "execution_count": 203,
   "metadata": {},
   "outputs": [
    {
     "data": {
      "text/plain": [
       "OUTCOME\n",
       "0.0    11064.036158\n",
       "1.0    11057.393303\n",
       "Name: ANNUAL_MILEAGE, dtype: float64"
      ]
     },
     "execution_count": 203,
     "metadata": {},
     "output_type": "execute_result"
    }
   ],
   "source": [
    "insurance.groupby('OUTCOME')['ANNUAL_MILEAGE'].mean()"
   ]
  },
  {
   "cell_type": "code",
   "execution_count": 204,
   "metadata": {},
   "outputs": [
    {
     "data": {
      "text/html": [
       "<div>\n",
       "<style scoped>\n",
       "    .dataframe tbody tr th:only-of-type {\n",
       "        vertical-align: middle;\n",
       "    }\n",
       "\n",
       "    .dataframe tbody tr th {\n",
       "        vertical-align: top;\n",
       "    }\n",
       "\n",
       "    .dataframe thead th {\n",
       "        text-align: right;\n",
       "    }\n",
       "</style>\n",
       "<table border=\"1\" class=\"dataframe\">\n",
       "  <thead>\n",
       "    <tr style=\"text-align: right;\">\n",
       "      <th>OUTCOME</th>\n",
       "      <th>0.0</th>\n",
       "      <th>1.0</th>\n",
       "    </tr>\n",
       "    <tr>\n",
       "      <th>SPEEDING_VIOLATIONS</th>\n",
       "      <th></th>\n",
       "      <th></th>\n",
       "    </tr>\n",
       "  </thead>\n",
       "  <tbody>\n",
       "    <tr>\n",
       "      <th>0</th>\n",
       "      <td>57.564015</td>\n",
       "      <td>42.435985</td>\n",
       "    </tr>\n",
       "    <tr>\n",
       "      <th>1</th>\n",
       "      <td>58.217144</td>\n",
       "      <td>41.782856</td>\n",
       "    </tr>\n",
       "    <tr>\n",
       "      <th>2</th>\n",
       "      <td>58.075209</td>\n",
       "      <td>41.924791</td>\n",
       "    </tr>\n",
       "    <tr>\n",
       "      <th>3</th>\n",
       "      <td>57.792642</td>\n",
       "      <td>42.207358</td>\n",
       "    </tr>\n",
       "    <tr>\n",
       "      <th>4</th>\n",
       "      <td>58.649289</td>\n",
       "      <td>41.350711</td>\n",
       "    </tr>\n",
       "    <tr>\n",
       "      <th>5</th>\n",
       "      <td>57.738749</td>\n",
       "      <td>42.261251</td>\n",
       "    </tr>\n",
       "    <tr>\n",
       "      <th>6</th>\n",
       "      <td>59.834369</td>\n",
       "      <td>40.165631</td>\n",
       "    </tr>\n",
       "    <tr>\n",
       "      <th>7</th>\n",
       "      <td>50.427350</td>\n",
       "      <td>49.572650</td>\n",
       "    </tr>\n",
       "    <tr>\n",
       "      <th>8</th>\n",
       "      <td>58.846154</td>\n",
       "      <td>41.153846</td>\n",
       "    </tr>\n",
       "    <tr>\n",
       "      <th>9</th>\n",
       "      <td>57.558140</td>\n",
       "      <td>42.441860</td>\n",
       "    </tr>\n",
       "    <tr>\n",
       "      <th>10</th>\n",
       "      <td>54.128440</td>\n",
       "      <td>45.871560</td>\n",
       "    </tr>\n",
       "    <tr>\n",
       "      <th>11</th>\n",
       "      <td>56.321839</td>\n",
       "      <td>43.678161</td>\n",
       "    </tr>\n",
       "    <tr>\n",
       "      <th>12</th>\n",
       "      <td>57.142857</td>\n",
       "      <td>42.857143</td>\n",
       "    </tr>\n",
       "    <tr>\n",
       "      <th>13</th>\n",
       "      <td>53.448276</td>\n",
       "      <td>46.551724</td>\n",
       "    </tr>\n",
       "    <tr>\n",
       "      <th>14</th>\n",
       "      <td>60.000000</td>\n",
       "      <td>40.000000</td>\n",
       "    </tr>\n",
       "    <tr>\n",
       "      <th>15</th>\n",
       "      <td>40.000000</td>\n",
       "      <td>60.000000</td>\n",
       "    </tr>\n",
       "    <tr>\n",
       "      <th>16</th>\n",
       "      <td>0.000000</td>\n",
       "      <td>100.000000</td>\n",
       "    </tr>\n",
       "    <tr>\n",
       "      <th>17</th>\n",
       "      <td>75.000000</td>\n",
       "      <td>25.000000</td>\n",
       "    </tr>\n",
       "    <tr>\n",
       "      <th>18</th>\n",
       "      <td>100.000000</td>\n",
       "      <td>0.000000</td>\n",
       "    </tr>\n",
       "    <tr>\n",
       "      <th>19</th>\n",
       "      <td>100.000000</td>\n",
       "      <td>0.000000</td>\n",
       "    </tr>\n",
       "    <tr>\n",
       "      <th>20</th>\n",
       "      <td>100.000000</td>\n",
       "      <td>0.000000</td>\n",
       "    </tr>\n",
       "  </tbody>\n",
       "</table>\n",
       "</div>"
      ],
      "text/plain": [
       "OUTCOME                     0.0         1.0\n",
       "SPEEDING_VIOLATIONS                        \n",
       "0                     57.564015   42.435985\n",
       "1                     58.217144   41.782856\n",
       "2                     58.075209   41.924791\n",
       "3                     57.792642   42.207358\n",
       "4                     58.649289   41.350711\n",
       "5                     57.738749   42.261251\n",
       "6                     59.834369   40.165631\n",
       "7                     50.427350   49.572650\n",
       "8                     58.846154   41.153846\n",
       "9                     57.558140   42.441860\n",
       "10                    54.128440   45.871560\n",
       "11                    56.321839   43.678161\n",
       "12                    57.142857   42.857143\n",
       "13                    53.448276   46.551724\n",
       "14                    60.000000   40.000000\n",
       "15                    40.000000   60.000000\n",
       "16                     0.000000  100.000000\n",
       "17                    75.000000   25.000000\n",
       "18                   100.000000    0.000000\n",
       "19                   100.000000    0.000000\n",
       "20                   100.000000    0.000000"
      ]
     },
     "execution_count": 204,
     "metadata": {},
     "output_type": "execute_result"
    }
   ],
   "source": [
    "pd.crosstab(insurance.SPEEDING_VIOLATIONS,insurance.OUTCOME, normalize='index')*100"
   ]
  },
  {
   "cell_type": "code",
   "execution_count": 205,
   "metadata": {},
   "outputs": [
    {
     "data": {
      "text/html": [
       "<div>\n",
       "<style scoped>\n",
       "    .dataframe tbody tr th:only-of-type {\n",
       "        vertical-align: middle;\n",
       "    }\n",
       "\n",
       "    .dataframe tbody tr th {\n",
       "        vertical-align: top;\n",
       "    }\n",
       "\n",
       "    .dataframe thead th {\n",
       "        text-align: right;\n",
       "    }\n",
       "</style>\n",
       "<table border=\"1\" class=\"dataframe\">\n",
       "  <thead>\n",
       "    <tr style=\"text-align: right;\">\n",
       "      <th>OUTCOME</th>\n",
       "      <th>0.0</th>\n",
       "      <th>1.0</th>\n",
       "    </tr>\n",
       "    <tr>\n",
       "      <th>DUIS</th>\n",
       "      <th></th>\n",
       "      <th></th>\n",
       "    </tr>\n",
       "  </thead>\n",
       "  <tbody>\n",
       "    <tr>\n",
       "      <th>0</th>\n",
       "      <td>57.759095</td>\n",
       "      <td>42.240905</td>\n",
       "    </tr>\n",
       "    <tr>\n",
       "      <th>1</th>\n",
       "      <td>56.793003</td>\n",
       "      <td>43.206997</td>\n",
       "    </tr>\n",
       "    <tr>\n",
       "      <th>2</th>\n",
       "      <td>58.818704</td>\n",
       "      <td>41.181296</td>\n",
       "    </tr>\n",
       "    <tr>\n",
       "      <th>3</th>\n",
       "      <td>57.249766</td>\n",
       "      <td>42.750234</td>\n",
       "    </tr>\n",
       "    <tr>\n",
       "      <th>4</th>\n",
       "      <td>57.404795</td>\n",
       "      <td>42.595205</td>\n",
       "    </tr>\n",
       "    <tr>\n",
       "      <th>5</th>\n",
       "      <td>57.768924</td>\n",
       "      <td>42.231076</td>\n",
       "    </tr>\n",
       "    <tr>\n",
       "      <th>6</th>\n",
       "      <td>61.842105</td>\n",
       "      <td>38.157895</td>\n",
       "    </tr>\n",
       "  </tbody>\n",
       "</table>\n",
       "</div>"
      ],
      "text/plain": [
       "OUTCOME        0.0        1.0\n",
       "DUIS                         \n",
       "0        57.759095  42.240905\n",
       "1        56.793003  43.206997\n",
       "2        58.818704  41.181296\n",
       "3        57.249766  42.750234\n",
       "4        57.404795  42.595205\n",
       "5        57.768924  42.231076\n",
       "6        61.842105  38.157895"
      ]
     },
     "execution_count": 205,
     "metadata": {},
     "output_type": "execute_result"
    }
   ],
   "source": [
    "pd.crosstab(insurance.DUIS,insurance.OUTCOME, normalize='index')*100"
   ]
  },
  {
   "cell_type": "code",
   "execution_count": 206,
   "metadata": {},
   "outputs": [
    {
     "data": {
      "text/html": [
       "<div>\n",
       "<style scoped>\n",
       "    .dataframe tbody tr th:only-of-type {\n",
       "        vertical-align: middle;\n",
       "    }\n",
       "\n",
       "    .dataframe tbody tr th {\n",
       "        vertical-align: top;\n",
       "    }\n",
       "\n",
       "    .dataframe thead th {\n",
       "        text-align: right;\n",
       "    }\n",
       "</style>\n",
       "<table border=\"1\" class=\"dataframe\">\n",
       "  <thead>\n",
       "    <tr style=\"text-align: right;\">\n",
       "      <th>OUTCOME</th>\n",
       "      <th>0.0</th>\n",
       "      <th>1.0</th>\n",
       "    </tr>\n",
       "    <tr>\n",
       "      <th>PAST_ACCIDENTS</th>\n",
       "      <th></th>\n",
       "      <th></th>\n",
       "    </tr>\n",
       "  </thead>\n",
       "  <tbody>\n",
       "    <tr>\n",
       "      <th>0</th>\n",
       "      <td>57.886193</td>\n",
       "      <td>42.113807</td>\n",
       "    </tr>\n",
       "    <tr>\n",
       "      <th>1</th>\n",
       "      <td>56.844935</td>\n",
       "      <td>43.155065</td>\n",
       "    </tr>\n",
       "    <tr>\n",
       "      <th>2</th>\n",
       "      <td>57.018903</td>\n",
       "      <td>42.981097</td>\n",
       "    </tr>\n",
       "    <tr>\n",
       "      <th>3</th>\n",
       "      <td>56.489423</td>\n",
       "      <td>43.510577</td>\n",
       "    </tr>\n",
       "    <tr>\n",
       "      <th>4</th>\n",
       "      <td>59.681093</td>\n",
       "      <td>40.318907</td>\n",
       "    </tr>\n",
       "    <tr>\n",
       "      <th>5</th>\n",
       "      <td>59.381898</td>\n",
       "      <td>40.618102</td>\n",
       "    </tr>\n",
       "    <tr>\n",
       "      <th>6</th>\n",
       "      <td>58.239700</td>\n",
       "      <td>41.760300</td>\n",
       "    </tr>\n",
       "    <tr>\n",
       "      <th>7</th>\n",
       "      <td>59.806295</td>\n",
       "      <td>40.193705</td>\n",
       "    </tr>\n",
       "    <tr>\n",
       "      <th>8</th>\n",
       "      <td>59.411765</td>\n",
       "      <td>40.588235</td>\n",
       "    </tr>\n",
       "    <tr>\n",
       "      <th>9</th>\n",
       "      <td>61.016949</td>\n",
       "      <td>38.983051</td>\n",
       "    </tr>\n",
       "    <tr>\n",
       "      <th>10</th>\n",
       "      <td>57.324841</td>\n",
       "      <td>42.675159</td>\n",
       "    </tr>\n",
       "    <tr>\n",
       "      <th>11</th>\n",
       "      <td>60.869565</td>\n",
       "      <td>39.130435</td>\n",
       "    </tr>\n",
       "    <tr>\n",
       "      <th>12</th>\n",
       "      <td>56.000000</td>\n",
       "      <td>44.000000</td>\n",
       "    </tr>\n",
       "    <tr>\n",
       "      <th>13</th>\n",
       "      <td>64.000000</td>\n",
       "      <td>36.000000</td>\n",
       "    </tr>\n",
       "    <tr>\n",
       "      <th>14</th>\n",
       "      <td>60.526316</td>\n",
       "      <td>39.473684</td>\n",
       "    </tr>\n",
       "    <tr>\n",
       "      <th>15</th>\n",
       "      <td>62.500000</td>\n",
       "      <td>37.500000</td>\n",
       "    </tr>\n",
       "  </tbody>\n",
       "</table>\n",
       "</div>"
      ],
      "text/plain": [
       "OUTCOME               0.0        1.0\n",
       "PAST_ACCIDENTS                      \n",
       "0               57.886193  42.113807\n",
       "1               56.844935  43.155065\n",
       "2               57.018903  42.981097\n",
       "3               56.489423  43.510577\n",
       "4               59.681093  40.318907\n",
       "5               59.381898  40.618102\n",
       "6               58.239700  41.760300\n",
       "7               59.806295  40.193705\n",
       "8               59.411765  40.588235\n",
       "9               61.016949  38.983051\n",
       "10              57.324841  42.675159\n",
       "11              60.869565  39.130435\n",
       "12              56.000000  44.000000\n",
       "13              64.000000  36.000000\n",
       "14              60.526316  39.473684\n",
       "15              62.500000  37.500000"
      ]
     },
     "execution_count": 206,
     "metadata": {},
     "output_type": "execute_result"
    }
   ],
   "source": [
    "pd.crosstab(insurance.PAST_ACCIDENTS,insurance.OUTCOME, normalize='index')*100"
   ]
  },
  {
   "cell_type": "code",
   "execution_count": 207,
   "metadata": {},
   "outputs": [
    {
     "data": {
      "text/html": [
       "<div>\n",
       "<style scoped>\n",
       "    .dataframe tbody tr th:only-of-type {\n",
       "        vertical-align: middle;\n",
       "    }\n",
       "\n",
       "    .dataframe tbody tr th {\n",
       "        vertical-align: top;\n",
       "    }\n",
       "\n",
       "    .dataframe thead th {\n",
       "        text-align: right;\n",
       "    }\n",
       "</style>\n",
       "<table border=\"1\" class=\"dataframe\">\n",
       "  <thead>\n",
       "    <tr style=\"text-align: right;\">\n",
       "      <th>OUTCOME</th>\n",
       "      <th>0.0</th>\n",
       "      <th>1.0</th>\n",
       "    </tr>\n",
       "    <tr>\n",
       "      <th>TYPE_OF_VEHICLE</th>\n",
       "      <th></th>\n",
       "      <th></th>\n",
       "    </tr>\n",
       "  </thead>\n",
       "  <tbody>\n",
       "    <tr>\n",
       "      <th>HatchBack</th>\n",
       "      <td>57.429719</td>\n",
       "      <td>42.570281</td>\n",
       "    </tr>\n",
       "    <tr>\n",
       "      <th>SUV</th>\n",
       "      <td>58.488613</td>\n",
       "      <td>41.511387</td>\n",
       "    </tr>\n",
       "    <tr>\n",
       "      <th>Sedan</th>\n",
       "      <td>58.204125</td>\n",
       "      <td>41.795875</td>\n",
       "    </tr>\n",
       "    <tr>\n",
       "      <th>Sports Car</th>\n",
       "      <td>57.195305</td>\n",
       "      <td>42.804695</td>\n",
       "    </tr>\n",
       "  </tbody>\n",
       "</table>\n",
       "</div>"
      ],
      "text/plain": [
       "OUTCOME                0.0        1.0\n",
       "TYPE_OF_VEHICLE                      \n",
       "HatchBack        57.429719  42.570281\n",
       "SUV              58.488613  41.511387\n",
       "Sedan            58.204125  41.795875\n",
       "Sports Car       57.195305  42.804695"
      ]
     },
     "execution_count": 207,
     "metadata": {},
     "output_type": "execute_result"
    }
   ],
   "source": [
    "pd.crosstab(insurance.TYPE_OF_VEHICLE,insurance.OUTCOME, normalize='index')*100"
   ]
  },
  {
   "cell_type": "markdown",
   "metadata": {},
   "source": [
    "#### Creating geographic clusters using postal codes"
   ]
  },
  {
   "cell_type": "code",
   "execution_count": 208,
   "metadata": {},
   "outputs": [
    {
     "data": {
      "text/plain": [
       "10937"
      ]
     },
     "execution_count": 208,
     "metadata": {},
     "output_type": "execute_result"
    }
   ],
   "source": [
    "insurance.POSTAL_CODE.nunique()"
   ]
  },
  {
   "cell_type": "code",
   "execution_count": 209,
   "metadata": {},
   "outputs": [],
   "source": [
    "#creating clusters based on postal codes\n",
    "insurance_clusters = insurance[['POSTAL_CODE']]\n",
    "scaler = StandardScaler()\n",
    "scaled_insurance_clusters= scaler.fit_transform(insurance_clusters)"
   ]
  },
  {
   "cell_type": "code",
   "execution_count": 210,
   "metadata": {},
   "outputs": [
    {
     "data": {
      "text/plain": [
       "[<matplotlib.lines.Line2D at 0x13df2f0e970>]"
      ]
     },
     "execution_count": 210,
     "metadata": {},
     "output_type": "execute_result"
    },
    {
     "data": {
      "image/png": "[encoded data removed]",
      "text/plain": [
       "<Figure size 432x288 with 1 Axes>"
      ]
     },
     "metadata": {
      "needs_background": "light"
     },
     "output_type": "display_data"
    }
   ],
   "source": [
    "cluster_range = range(1,20)\n",
    "cluster_errors = []\n",
    "for num_clusters in cluster_range:\n",
    "  clusters = KMeans(num_clusters)\n",
    "  clusters.fit(scaled_insurance_clusters)\n",
    "  cluster_errors.append(clusters.inertia_)\n",
    "plt.figure(figsize=(6,4))\n",
    "plt.plot(cluster_range, cluster_errors, marker = 'o')"
   ]
  },
  {
   "cell_type": "code",
   "execution_count": 211,
   "metadata": {},
   "outputs": [
    {
     "name": "stderr",
     "output_type": "stream",
     "text": [
      "<ipython-input-211-be1768953ffc>:4: SettingWithCopyWarning: \n",
      "A value is trying to be set on a copy of a slice from a DataFrame.\n",
      "Try using .loc[row_indexer,col_indexer] = value instead\n",
      "\n",
      "See the caveats in the documentation: https://pandas.pydata.org/pandas-docs/stable/user_guide/indexing.html#returning-a-view-versus-a-copy\n",
      "  insurance_clusters['cluster_id'] =clusters.labels_\n"
     ]
    }
   ],
   "source": [
    "k=3\n",
    "clusters = KMeans (k, random_state = 42)\n",
    "clusters.fit(scaled_insurance_clusters)\n",
    "insurance_clusters['cluster_id'] =clusters.labels_"
   ]
  },
  {
   "cell_type": "code",
   "execution_count": 212,
   "metadata": {},
   "outputs": [],
   "source": [
    "insurance['geographic_cluster'] = insurance_clusters['cluster_id']"
   ]
  },
  {
   "cell_type": "code",
   "execution_count": 215,
   "metadata": {},
   "outputs": [],
   "source": [
    "insurance['geographic_cluster']= insurance['geographic_cluster'].astype(str)"
   ]
  },
  {
   "cell_type": "markdown",
   "metadata": {},
   "source": [
    "#### Chi-squared test statistic - to check relationship between categorical features and the outcome feature "
   ]
  },
  {
   "cell_type": "markdown",
   "metadata": {},
   "source": [
    "* There is no significant relationship between geographical clusters and Claim reimbursement "
   ]
  },
  {
   "cell_type": "markdown",
   "metadata": {},
   "source": [
    "1. Geographical cluster and Claim Reimbursement "
   ]
  },
  {
   "cell_type": "code",
   "execution_count": 221,
   "metadata": {},
   "outputs": [],
   "source": [
    "insurance['OUTCOME']= insurance['OUTCOME'].astype(str)"
   ]
  },
  {
   "cell_type": "code",
   "execution_count": 222,
   "metadata": {},
   "outputs": [],
   "source": [
    "#pip install scipy"
   ]
  },
  {
   "cell_type": "code",
   "execution_count": 224,
   "metadata": {},
   "outputs": [
    {
     "name": "stdout",
     "output_type": "stream",
     "text": [
      "<class 'pandas.core.frame.DataFrame'>\n",
      "RangeIndex: 105000 entries, 0 to 104999\n",
      "Data columns (total 2 columns):\n",
      " #   Column              Non-Null Count   Dtype \n",
      "---  ------              --------------   ----- \n",
      " 0   OUTCOME             105000 non-null  object\n",
      " 1   geographic_cluster  105000 non-null  object\n",
      "dtypes: object(2)\n",
      "memory usage: 1.6+ MB\n"
     ]
    }
   ],
   "source": [
    "insurance_chi = insurance[['OUTCOME', 'geographic_cluster']]\n",
    "insurance_chi.info()"
   ]
  },
  {
   "cell_type": "code",
   "execution_count": 241,
   "metadata": {},
   "outputs": [
    {
     "data": {
      "text/html": [
       "<div>\n",
       "<style scoped>\n",
       "    .dataframe tbody tr th:only-of-type {\n",
       "        vertical-align: middle;\n",
       "    }\n",
       "\n",
       "    .dataframe tbody tr th {\n",
       "        vertical-align: top;\n",
       "    }\n",
       "\n",
       "    .dataframe thead th {\n",
       "        text-align: right;\n",
       "    }\n",
       "</style>\n",
       "<table border=\"1\" class=\"dataframe\">\n",
       "  <thead>\n",
       "    <tr style=\"text-align: right;\">\n",
       "      <th>geographic_cluster</th>\n",
       "      <th>0</th>\n",
       "      <th>1</th>\n",
       "      <th>2</th>\n",
       "    </tr>\n",
       "    <tr>\n",
       "      <th>OUTCOME</th>\n",
       "      <th></th>\n",
       "      <th></th>\n",
       "      <th></th>\n",
       "    </tr>\n",
       "  </thead>\n",
       "  <tbody>\n",
       "    <tr>\n",
       "      <th>0.0</th>\n",
       "      <td>45306</td>\n",
       "      <td>2020</td>\n",
       "      <td>13296</td>\n",
       "    </tr>\n",
       "    <tr>\n",
       "      <th>1.0</th>\n",
       "      <td>33309</td>\n",
       "      <td>1464</td>\n",
       "      <td>9605</td>\n",
       "    </tr>\n",
       "  </tbody>\n",
       "</table>\n",
       "</div>"
      ],
      "text/plain": [
       "geographic_cluster      0     1      2\n",
       "OUTCOME                               \n",
       "0.0                 45306  2020  13296\n",
       "1.0                 33309  1464   9605"
      ]
     },
     "execution_count": 241,
     "metadata": {},
     "output_type": "execute_result"
    }
   ],
   "source": [
    "contigency_geography= pd.crosstab(insurance_chi['OUTCOME'], insurance_chi['geographic_cluster']) \n",
    "contigency_geography"
   ]
  },
  {
   "cell_type": "code",
   "execution_count": 242,
   "metadata": {
    "scrolled": true
   },
   "outputs": [],
   "source": [
    "from scipy.stats import chi2_contingency\n",
    "c, p, dof, expected = chi2_contingency(contigency_geography)"
   ]
  },
  {
   "cell_type": "code",
   "execution_count": 243,
   "metadata": {},
   "outputs": [
    {
     "name": "stdout",
     "output_type": "stream",
     "text": [
      "0.4912290381049209\n"
     ]
    }
   ],
   "source": [
    "print(p)"
   ]
  },
  {
   "cell_type": "markdown",
   "metadata": {},
   "source": [
    "2. Age and Claim Reimbursement "
   ]
  },
  {
   "cell_type": "code",
   "execution_count": 246,
   "metadata": {},
   "outputs": [
    {
     "name": "stdout",
     "output_type": "stream",
     "text": [
      "0.5064039542017416\n"
     ]
    }
   ],
   "source": [
    "insurance_chi_age = insurance[['OUTCOME', 'AGE']]\n",
    "\n",
    "contigency_age= pd.crosstab(insurance_chi_age['OUTCOME'], insurance_chi_age['AGE']) \n",
    "contigency_age\n",
    "\n",
    "c, p, dof, expected = chi2_contingency(contigency_age)\n",
    "\n",
    "print(p)"
   ]
  },
  {
   "cell_type": "markdown",
   "metadata": {},
   "source": [
    "3. Gender and Claim Reimbursement"
   ]
  },
  {
   "cell_type": "code",
   "execution_count": 248,
   "metadata": {},
   "outputs": [
    {
     "name": "stdout",
     "output_type": "stream",
     "text": [
      "0.00015521200208116215\n"
     ]
    }
   ],
   "source": [
    "insurance_chi_gender = insurance[['OUTCOME', 'GENDER']]\n",
    "\n",
    "contigency_gender= pd.crosstab(insurance_chi_gender['OUTCOME'], insurance_chi_gender['GENDER']) \n",
    "contigency_gender\n",
    "\n",
    "c, p, dof, expected = chi2_contingency(contigency_gender)\n",
    "\n",
    "print(p)"
   ]
  },
  {
   "cell_type": "markdown",
   "metadata": {},
   "source": [
    "4. Driving Experience and Claim Reimbursement"
   ]
  },
  {
   "cell_type": "code",
   "execution_count": 250,
   "metadata": {},
   "outputs": [
    {
     "name": "stdout",
     "output_type": "stream",
     "text": [
      "4.6122893240973636e-05\n"
     ]
    }
   ],
   "source": [
    "insurance_chi_dexp = insurance[['OUTCOME', 'DRIVING_EXPERIENCE']]\n",
    "\n",
    "contigency_dexp= pd.crosstab(insurance_chi_dexp['OUTCOME'], insurance_chi_dexp['DRIVING_EXPERIENCE']) \n",
    "contigency_dexp\n",
    "\n",
    "c, p, dof, expected = chi2_contingency(contigency_dexp)\n",
    "\n",
    "print(p)"
   ]
  },
  {
   "cell_type": "markdown",
   "metadata": {},
   "source": [
    "5. Education and Claim Reimbursement"
   ]
  },
  {
   "cell_type": "code",
   "execution_count": 251,
   "metadata": {},
   "outputs": [
    {
     "name": "stdout",
     "output_type": "stream",
     "text": [
      "0.5420761585736916\n"
     ]
    }
   ],
   "source": [
    "insurance_chi_edu = insurance[['OUTCOME', 'EDUCATION']]\n",
    "\n",
    "contigency_edu= pd.crosstab(insurance_chi_edu['OUTCOME'], insurance_chi_edu['EDUCATION']) \n",
    "contigency_edu\n",
    "\n",
    "c, p, dof, expected = chi2_contingency(contigency_edu)\n",
    "\n",
    "print(p)"
   ]
  },
  {
   "cell_type": "markdown",
   "metadata": {},
   "source": [
    "6. Income and CLaim Reimbursement"
   ]
  },
  {
   "cell_type": "code",
   "execution_count": 252,
   "metadata": {},
   "outputs": [
    {
     "name": "stdout",
     "output_type": "stream",
     "text": [
      "0.6070011700509566\n"
     ]
    }
   ],
   "source": [
    "insurance_chi_inc = insurance[['OUTCOME', 'INCOME']]\n",
    "\n",
    "contigency_inc = pd.crosstab(insurance_chi_inc['OUTCOME'], insurance_chi_inc['INCOME']) \n",
    "contigency_inc\n",
    "\n",
    "c, p, dof, expected = chi2_contingency(contigency_inc)\n",
    "\n",
    "print(p)"
   ]
  },
  {
   "cell_type": "markdown",
   "metadata": {},
   "source": [
    "7. Vehicle Ownership and Claim Reimbursement"
   ]
  },
  {
   "cell_type": "code",
   "execution_count": 256,
   "metadata": {},
   "outputs": [],
   "source": [
    "insurance['VEHICLE_OWNERSHIP']= insurance['VEHICLE_OWNERSHIP'].astype(str)"
   ]
  },
  {
   "cell_type": "code",
   "execution_count": 257,
   "metadata": {},
   "outputs": [
    {
     "name": "stdout",
     "output_type": "stream",
     "text": [
      "0.3232895253380093\n"
     ]
    }
   ],
   "source": [
    "insurance_chi_vown = insurance[['OUTCOME', 'VEHICLE_OWNERSHIP']]\n",
    "\n",
    "contigency_vown = pd.crosstab(insurance_chi_vown['OUTCOME'], insurance_chi_vown['VEHICLE_OWNERSHIP']) \n",
    "contigency_vown\n",
    "\n",
    "c, p, dof, expected = chi2_contingency(contigency_vown)\n",
    "\n",
    "print(p)"
   ]
  },
  {
   "cell_type": "markdown",
   "metadata": {},
   "source": [
    "8. Vehicle Year and Claim Reimbursement"
   ]
  },
  {
   "cell_type": "code",
   "execution_count": 259,
   "metadata": {},
   "outputs": [
    {
     "name": "stdout",
     "output_type": "stream",
     "text": [
      "0.7861728730620938\n"
     ]
    }
   ],
   "source": [
    "insurance_chi_vyr = insurance[['OUTCOME', 'VEHICLE_YEAR']]\n",
    "\n",
    "contigency_vyr = pd.crosstab(insurance_chi_vyr['OUTCOME'], insurance_chi_vyr['VEHICLE_YEAR']) \n",
    "contigency_vyr\n",
    "\n",
    "c, p, dof, expected = chi2_contingency(contigency_vyr)\n",
    "\n",
    "print(p)"
   ]
  },
  {
   "cell_type": "markdown",
   "metadata": {},
   "source": [
    "9. Marriage and Claim Reimbursement "
   ]
  },
  {
   "cell_type": "code",
   "execution_count": 261,
   "metadata": {},
   "outputs": [],
   "source": [
    "insurance['MARRIED'] = insurance['MARRIED'].astype(str)\n",
    "insurance['CHILDREN'] = insurance['CHILDREN'].astype(str)\n",
    "insurance['SPEEDING_VIOLATIONS'] = insurance['SPEEDING_VIOLATIONS'].astype(str)\n",
    "insurance['DUIS'] = insurance['DUIS'].astype(str)\n",
    "insurance['PAST_ACCIDENTS'] = insurance['PAST_ACCIDENTS'].astype(str)"
   ]
  },
  {
   "cell_type": "code",
   "execution_count": 263,
   "metadata": {},
   "outputs": [
    {
     "name": "stdout",
     "output_type": "stream",
     "text": [
      "0.051553078148386285\n"
     ]
    }
   ],
   "source": [
    "insurance_chi_married = insurance[['OUTCOME', 'MARRIED']]\n",
    "\n",
    "contigency_married = pd.crosstab(insurance_chi_married['OUTCOME'], insurance_chi_married['MARRIED']) \n",
    "contigency_married\n",
    "\n",
    "c, p, dof, expected = chi2_contingency(contigency_married)\n",
    "\n",
    "print(p)"
   ]
  },
  {
   "cell_type": "markdown",
   "metadata": {},
   "source": [
    "10. Children and Claim Reimburesment"
   ]
  },
  {
   "cell_type": "code",
   "execution_count": 264,
   "metadata": {},
   "outputs": [
    {
     "name": "stdout",
     "output_type": "stream",
     "text": [
      "0.5488558825631149\n"
     ]
    }
   ],
   "source": [
    "insurance_chi_children = insurance[['OUTCOME', 'CHILDREN']]\n",
    "\n",
    "contigency_children = pd.crosstab(insurance_chi_children['OUTCOME'], insurance_chi_children['CHILDREN']) \n",
    "contigency_children\n",
    "\n",
    "c, p, dof, expected = chi2_contingency(contigency_children)\n",
    "\n",
    "print(p)"
   ]
  },
  {
   "cell_type": "markdown",
   "metadata": {},
   "source": [
    "11. Speeding Violations and Reimbursement"
   ]
  },
  {
   "cell_type": "code",
   "execution_count": 265,
   "metadata": {},
   "outputs": [
    {
     "name": "stdout",
     "output_type": "stream",
     "text": [
      "0.08388952546410892\n"
     ]
    }
   ],
   "source": [
    "insurance_chi_speed = insurance[['OUTCOME', 'SPEEDING_VIOLATIONS']]\n",
    "\n",
    "contigency_speed = pd.crosstab(insurance_chi_speed['OUTCOME'], insurance_chi_speed['SPEEDING_VIOLATIONS']) \n",
    "contigency_speed\n",
    "\n",
    "c, p, dof, expected = chi2_contingency(contigency_speed)\n",
    "\n",
    "print(p)"
   ]
  },
  {
   "cell_type": "markdown",
   "metadata": {},
   "source": [
    "12. DUIS and Reimbursement "
   ]
  },
  {
   "cell_type": "code",
   "execution_count": 266,
   "metadata": {},
   "outputs": [
    {
     "name": "stdout",
     "output_type": "stream",
     "text": [
      "0.8664833990539164\n"
     ]
    }
   ],
   "source": [
    "insurance_chi_duis = insurance[['OUTCOME', 'DUIS']]\n",
    "\n",
    "contigency_duis = pd.crosstab(insurance_chi_duis['OUTCOME'], insurance_chi_duis['DUIS']) \n",
    "contigency_duis\n",
    "\n",
    "c, p, dof, expected = chi2_contingency(contigency_duis)\n",
    "\n",
    "print(p)"
   ]
  },
  {
   "cell_type": "markdown",
   "metadata": {},
   "source": [
    "13. PAST_ACCIDENTS and Reimbursements"
   ]
  },
  {
   "cell_type": "code",
   "execution_count": 267,
   "metadata": {},
   "outputs": [
    {
     "name": "stdout",
     "output_type": "stream",
     "text": [
      "0.4832504116588934\n"
     ]
    }
   ],
   "source": [
    "insurance_chi_acc = insurance[['OUTCOME', 'PAST_ACCIDENTS']]\n",
    "\n",
    "contigency_acc = pd.crosstab(insurance_chi_acc['OUTCOME'], insurance_chi_acc['PAST_ACCIDENTS']) \n",
    "contigency_acc\n",
    "\n",
    "c, p, dof, expected = chi2_contingency(contigency_acc)\n",
    "\n",
    "print(p)"
   ]
  },
  {
   "cell_type": "markdown",
   "metadata": {},
   "source": [
    "14. TYPE_OF_VEHICLE and Reimbursement "
   ]
  },
  {
   "cell_type": "code",
   "execution_count": 268,
   "metadata": {},
   "outputs": [
    {
     "name": "stdout",
     "output_type": "stream",
     "text": [
      "0.008630816447861154\n"
     ]
    }
   ],
   "source": [
    "insurance_chi_vehtype = insurance[['OUTCOME', 'TYPE_OF_VEHICLE']]\n",
    "\n",
    "contigency_vehtype = pd.crosstab(insurance_chi_vehtype['OUTCOME'], insurance_chi_vehtype['TYPE_OF_VEHICLE']) \n",
    "contigency_vehtype\n",
    "\n",
    "c, p, dof, expected = chi2_contingency(contigency_vehtype)\n",
    "\n",
    "print(p)"
   ]
  },
  {
   "cell_type": "markdown",
   "metadata": {},
   "source": [
    "###### *Linear Correlation between numerical features and Claim Reimbursement"
   ]
  },
  {
   "cell_type": "code",
   "execution_count": 299,
   "metadata": {},
   "outputs": [
    {
     "name": "stderr",
     "output_type": "stream",
     "text": [
      "<ipython-input-299-774fd28335ee>:3: SettingWithCopyWarning: \n",
      "A value is trying to be set on a copy of a slice from a DataFrame.\n",
      "Try using .loc[row_indexer,col_indexer] = value instead\n",
      "\n",
      "See the caveats in the documentation: https://pandas.pydata.org/pandas-docs/stable/user_guide/indexing.html#returning-a-view-versus-a-copy\n",
      "  insurance_corr['OUTCOME'] = insurance_corr['OUTCOME'].astype(float)\n"
     ]
    },
    {
     "data": {
      "text/html": [
       "<div>\n",
       "<style scoped>\n",
       "    .dataframe tbody tr th:only-of-type {\n",
       "        vertical-align: middle;\n",
       "    }\n",
       "\n",
       "    .dataframe tbody tr th {\n",
       "        vertical-align: top;\n",
       "    }\n",
       "\n",
       "    .dataframe thead th {\n",
       "        text-align: right;\n",
       "    }\n",
       "</style>\n",
       "<table border=\"1\" class=\"dataframe\">\n",
       "  <thead>\n",
       "    <tr style=\"text-align: right;\">\n",
       "      <th></th>\n",
       "      <th>CREDIT_SCORE</th>\n",
       "      <th>ANNUAL_MILEAGE</th>\n",
       "      <th>OUTCOME</th>\n",
       "    </tr>\n",
       "  </thead>\n",
       "  <tbody>\n",
       "    <tr>\n",
       "      <th>CREDIT_SCORE</th>\n",
       "      <td>1.000000</td>\n",
       "      <td>-0.020313</td>\n",
       "      <td>-0.003068</td>\n",
       "    </tr>\n",
       "    <tr>\n",
       "      <th>ANNUAL_MILEAGE</th>\n",
       "      <td>-0.020313</td>\n",
       "      <td>1.000000</td>\n",
       "      <td>-0.001104</td>\n",
       "    </tr>\n",
       "    <tr>\n",
       "      <th>OUTCOME</th>\n",
       "      <td>-0.003068</td>\n",
       "      <td>-0.001104</td>\n",
       "      <td>1.000000</td>\n",
       "    </tr>\n",
       "  </tbody>\n",
       "</table>\n",
       "</div>"
      ],
      "text/plain": [
       "                CREDIT_SCORE  ANNUAL_MILEAGE   OUTCOME\n",
       "CREDIT_SCORE        1.000000       -0.020313 -0.003068\n",
       "ANNUAL_MILEAGE     -0.020313        1.000000 -0.001104\n",
       "OUTCOME            -0.003068       -0.001104  1.000000"
      ]
     },
     "execution_count": 299,
     "metadata": {},
     "output_type": "execute_result"
    }
   ],
   "source": [
    "insurance_corr = insurance[['CREDIT_SCORE', 'ANNUAL_MILEAGE', 'OUTCOME']]\n",
    "\n",
    "insurance_corr['OUTCOME'] = insurance_corr['OUTCOME'].astype(float)\n",
    "\n",
    "insurance_corr.corr()"
   ]
  },
  {
   "cell_type": "markdown",
   "metadata": {},
   "source": [
    "#### Encoding categorical features using DictVectorizer "
   ]
  },
  {
   "cell_type": "code",
   "execution_count": 318,
   "metadata": {},
   "outputs": [],
   "source": [
    "X = insurance[['AGE', 'GENDER', 'DRIVING_EXPERIENCE', 'EDUCATION', 'INCOME','VEHICLE_OWNERSHIP', 'VEHICLE_YEAR', 'MARRIED',\n",
    "       'CHILDREN','SPEEDING_VIOLATIONS','DUIS', 'PAST_ACCIDENTS', 'TYPE_OF_VEHICLE', 'geographic_cluster', 'CREDIT_SCORE', 'ANNUAL_MILEAGE']]\n",
    "\n",
    "Y = insurance.OUTCOME"
   ]
  },
  {
   "cell_type": "code",
   "execution_count": 319,
   "metadata": {},
   "outputs": [
    {
     "name": "stdout",
     "output_type": "stream",
     "text": [
      "(84000, 16)\n",
      "(21000, 16)\n"
     ]
    }
   ],
   "source": [
    "from sklearn.model_selection import train_test_split\n",
    "\n",
    "X_train, X_test, y_train, y_test = train_test_split( X, Y, test_size = 0.2, random_state = 42)\n",
    "\n",
    "print(X_train.shape)\n",
    "print(X_test.shape)"
   ]
  },
  {
   "cell_type": "code",
   "execution_count": 320,
   "metadata": {},
   "outputs": [],
   "source": [
    "dv = DictVectorizer()\n",
    "categorical  = ['AGE', 'GENDER', 'DRIVING_EXPERIENCE', 'EDUCATION', 'INCOME','VEHICLE_OWNERSHIP', 'VEHICLE_YEAR', 'MARRIED',\n",
    "       'CHILDREN','SPEEDING_VIOLATIONS','DUIS', 'PAST_ACCIDENTS', 'TYPE_OF_VEHICLE', 'geographic_cluster']\n",
    "\n",
    "numerical = ['CREDIT_SCORE', 'ANNUAL_MILEAGE']\n",
    "\n",
    "train_dicts = X_train[categorical + numerical].to_dict(orient='records')\n",
    "X_train_t = dv.fit_transform(train_dicts)\n",
    "\n",
    "val_dicts = X_test[categorical + numerical].to_dict(orient='records')\n",
    "X_val_t = dv.transform(val_dicts)"
   ]
  },
  {
   "cell_type": "code",
   "execution_count": 324,
   "metadata": {},
   "outputs": [
    {
     "data": {
      "text/plain": [
       "RandomForestClassifier()"
      ]
     },
     "execution_count": 324,
     "metadata": {},
     "output_type": "execute_result"
    }
   ],
   "source": [
    "from sklearn.ensemble import RandomForestClassifier\n",
    "from sklearn.datasets import make_classification\n",
    "\n",
    "clf=RandomForestClassifier()\n",
    "clf.fit(X_train_t, y_train)"
   ]
  },
  {
   "cell_type": "code",
   "execution_count": 325,
   "metadata": {},
   "outputs": [],
   "source": [
    "preds = clf.predict(X_val_t)"
   ]
  },
  {
   "cell_type": "code",
   "execution_count": 330,
   "metadata": {},
   "outputs": [
    {
     "name": "stdout",
     "output_type": "stream",
     "text": [
      "0.9999880952380953\n"
     ]
    }
   ],
   "source": [
    "print(clf.score(X_train_t, y_train))\n"
   ]
  },
  {
   "cell_type": "code",
   "execution_count": 331,
   "metadata": {},
   "outputs": [
    {
     "name": "stdout",
     "output_type": "stream",
     "text": [
      "0.5441904761904762\n"
     ]
    }
   ],
   "source": [
    "print(clf.score(X_val_t, y_test))"
   ]
  },
  {
   "cell_type": "code",
   "execution_count": null,
   "metadata": {},
   "outputs": [],
   "source": []
  }
 ],
 "metadata": {
  "kernelspec": {
   "display_name": "Python 3",
   "language": "python",
   "name": "python3"
  },
  "language_info": {
   "codemirror_mode": {
    "name": "ipython",
    "version": 3
   },
   "file_extension": ".py",
   "mimetype": "text/x-python",
   "name": "python",
   "nbconvert_exporter": "python",
   "pygments_lexer": "ipython3",
   "version": "3.8.5"
  }
 },
 "nbformat": 4,
 "nbformat_minor": 4
}
